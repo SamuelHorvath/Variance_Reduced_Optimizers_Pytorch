{
 "cells": [
  {
   "cell_type": "code",
   "execution_count": 1,
   "id": "38836ccd",
   "metadata": {},
   "outputs": [],
   "source": [
    "import sys\n",
    "sys.path.insert(0,'../vr_optimizers')"
   ]
  },
  {
   "cell_type": "code",
   "execution_count": 2,
   "id": "7756dc34",
   "metadata": {},
   "outputs": [],
   "source": [
    "%matplotlib inline\n",
    "from utils.plotting import plot"
   ]
  },
  {
   "cell_type": "code",
   "execution_count": 3,
   "id": "f383aa4b",
   "metadata": {},
   "outputs": [],
   "source": [
    "class NameSpace(object):\n",
    "    def __init__(self, adict):\n",
    "        self.__dict__.update(adict)"
   ]
  },
  {
   "cell_type": "code",
   "execution_count": 4,
   "id": "ec9017a6",
   "metadata": {},
   "outputs": [],
   "source": [
    "def get_exps():\n",
    "    exps = []\n",
    "    for method in methods:\n",
    "        exp = {\n",
    "            'model': model,\n",
    "            'dataset': dataset,\n",
    "            'run_id': run_id,\n",
    "            'method': method,\n",
    "            'metric': metric,\n",
    "            'train_metric': train_metric,\n",
    "            'checkpoint_dir': checkpoint_dir\n",
    "        }\n",
    "        exp = NameSpace(exp)\n",
    "        exps.append(exp)\n",
    "    return exps"
   ]
  },
  {
   "cell_type": "code",
   "execution_count": 5,
   "id": "0aebba8e",
   "metadata": {},
   "outputs": [],
   "source": [
    "run_id = 'theor_step_size' # id of the experiment\n",
    "model = 'lin_reg' # name of the model \n",
    "dataset = 'a9a' # name of the dataset\n",
    "train_metric = False\n",
    "metric = 'grad_norm'\n",
    "\n",
    "checkpoint_dir = '../check_points'\n",
    "\n",
    "methods = ['gd', 'svrg', 'sarah', 'scsg_high', 'q-sarah_high', 'e-sarah_high']\n",
    "# ['gd', 'svrg', 'sarah', 'scsg_high', 'q-sarah_high', 'e-sarah_high']\n",
    "# ['sgd_8192', 'svrg_8192', 'sarah_8192', 'scsg_low', 'q-sarah_low', 'e-sarah_low']\n",
    "# ['sgd_1024', 'svrg_1024', 'sarah_1024', 'scsg_low', 'q-sarah_low', 'e-sarah_low']\n",
    "# ['sgd_2048', 'svrg_2048', 'sarah_2048', 'scsg_low', 'q-sarah_low', 'e-sarah_low']\n",
    "# ['gd', 'svrg', 'sarah', 'sgd_4096', 'svrg_4096', 'sarah_4096', 'scsg', 'q-sarah', 'e-sarah']\n",
    "\n",
    "exps = get_exps()"
   ]
  },
  {
   "cell_type": "code",
   "execution_count": 6,
   "id": "58566ec4",
   "metadata": {},
   "outputs": [
    {
     "ename": "FileNotFoundError",
     "evalue": "[Errno 2] No such file or directory: '../check_points/id=theor_step_size/lin_reg_a9a/gd'",
     "output_type": "error",
     "traceback": [
      "\u001b[0;31m---------------------------------------------------------------------------\u001b[0m",
      "\u001b[0;31mFileNotFoundError\u001b[0m                         Traceback (most recent call last)",
      "\u001b[0;32m/tmp/ipykernel_134507/3165055882.py\u001b[0m in \u001b[0;36m<module>\u001b[0;34m\u001b[0m\n\u001b[0;32m----> 1\u001b[0;31m plot(exps, log_scale=False,\n\u001b[0m\u001b[1;32m      2\u001b[0m      \u001b[0mlegend\u001b[0m\u001b[0;34m=\u001b[0m\u001b[0;32mNone\u001b[0m\u001b[0;34m,\u001b[0m\u001b[0;34m\u001b[0m\u001b[0;34m\u001b[0m\u001b[0m\n\u001b[1;32m      3\u001b[0m      \u001b[0my_label\u001b[0m\u001b[0;34m=\u001b[0m\u001b[0;34m'validation accuracy'\u001b[0m\u001b[0;34m,\u001b[0m\u001b[0;34m\u001b[0m\u001b[0;34m\u001b[0m\u001b[0m\n\u001b[1;32m      4\u001b[0m      \u001b[0mx_label\u001b[0m\u001b[0;34m=\u001b[0m\u001b[0;34m\"epochs\"\u001b[0m\u001b[0;34m,\u001b[0m\u001b[0;34m\u001b[0m\u001b[0;34m\u001b[0m\u001b[0m\n\u001b[1;32m      5\u001b[0m      \u001b[0mfile\u001b[0m\u001b[0;34m=\u001b[0m\u001b[0;32mNone\u001b[0m\u001b[0;34m,\u001b[0m \u001b[0;31m# file to store results of the experiment (in ../plots/ directory)\u001b[0m\u001b[0;34m\u001b[0m\u001b[0;34m\u001b[0m\u001b[0m\n",
      "\u001b[0;32m~/Desktop/VR_Optimizers_Pytorch/notebooks/../vr_optimizers/utils/plotting.py\u001b[0m in \u001b[0;36mplot\u001b[0;34m(exps, log_scale, legend, file, x_label, y_label)\u001b[0m\n\u001b[1;32m     23\u001b[0m \u001b[0;34m\u001b[0m\u001b[0m\n\u001b[1;32m     24\u001b[0m     \u001b[0;32mfor\u001b[0m \u001b[0mi\u001b[0m\u001b[0;34m,\u001b[0m \u001b[0mexp\u001b[0m \u001b[0;32min\u001b[0m \u001b[0menumerate\u001b[0m\u001b[0;34m(\u001b[0m\u001b[0mexps\u001b[0m\u001b[0;34m)\u001b[0m\u001b[0;34m:\u001b[0m\u001b[0;34m\u001b[0m\u001b[0;34m\u001b[0m\u001b[0m\n\u001b[0;32m---> 25\u001b[0;31m         \u001b[0mruns\u001b[0m \u001b[0;34m=\u001b[0m \u001b[0mget_best_runs\u001b[0m\u001b[0;34m(\u001b[0m\u001b[0mexp\u001b[0m\u001b[0;34m)\u001b[0m\u001b[0;34m\u001b[0m\u001b[0;34m\u001b[0m\u001b[0m\n\u001b[0m\u001b[1;32m     26\u001b[0m         \u001b[0mprint\u001b[0m\u001b[0;34m(\u001b[0m\u001b[0mexp\u001b[0m\u001b[0;34m.\u001b[0m\u001b[0mmethod\u001b[0m\u001b[0;34m,\u001b[0m \u001b[0;34m'...'\u001b[0m\u001b[0;34m,\u001b[0m \u001b[0mlen\u001b[0m\u001b[0;34m(\u001b[0m\u001b[0mruns\u001b[0m\u001b[0;34m)\u001b[0m\u001b[0;34m)\u001b[0m\u001b[0;34m\u001b[0m\u001b[0;34m\u001b[0m\u001b[0m\n\u001b[1;32m     27\u001b[0m         \u001b[0mplot_mean_std\u001b[0m\u001b[0;34m(\u001b[0m\u001b[0max\u001b[0m\u001b[0;34m,\u001b[0m \u001b[0mruns\u001b[0m\u001b[0;34m,\u001b[0m \u001b[0mmetric_name\u001b[0m\u001b[0;34m,\u001b[0m \u001b[0mi\u001b[0m\u001b[0;34m)\u001b[0m\u001b[0;34m\u001b[0m\u001b[0;34m\u001b[0m\u001b[0m\n",
      "\u001b[0;32m~/Desktop/VR_Optimizers_Pytorch/notebooks/../vr_optimizers/utils/utils.py\u001b[0m in \u001b[0;36mget_best_runs\u001b[0;34m(args_exp, last)\u001b[0m\n\u001b[1;32m    141\u001b[0m \u001b[0;32mdef\u001b[0m \u001b[0mget_best_runs\u001b[0m\u001b[0;34m(\u001b[0m\u001b[0margs_exp\u001b[0m\u001b[0;34m,\u001b[0m \u001b[0mlast\u001b[0m\u001b[0;34m=\u001b[0m\u001b[0;32mTrue\u001b[0m\u001b[0;34m)\u001b[0m\u001b[0;34m:\u001b[0m\u001b[0;34m\u001b[0m\u001b[0;34m\u001b[0m\u001b[0m\n\u001b[1;32m    142\u001b[0m     \u001b[0mmodel_dir_no_lr\u001b[0m \u001b[0;34m=\u001b[0m \u001b[0mcreate_model_dir\u001b[0m\u001b[0;34m(\u001b[0m\u001b[0margs_exp\u001b[0m\u001b[0;34m,\u001b[0m \u001b[0mlr\u001b[0m\u001b[0;34m=\u001b[0m\u001b[0;32mFalse\u001b[0m\u001b[0;34m)\u001b[0m\u001b[0;34m\u001b[0m\u001b[0;34m\u001b[0m\u001b[0m\n\u001b[0;32m--> 143\u001b[0;31m     \u001b[0mbest_lr\u001b[0m\u001b[0;34m,\u001b[0m \u001b[0m_\u001b[0m\u001b[0;34m,\u001b[0m \u001b[0m_\u001b[0m \u001b[0;34m=\u001b[0m \u001b[0mget_best_lr_and_metric\u001b[0m\u001b[0;34m(\u001b[0m\u001b[0margs_exp\u001b[0m\u001b[0;34m,\u001b[0m \u001b[0mlast\u001b[0m\u001b[0;34m=\u001b[0m\u001b[0mlast\u001b[0m\u001b[0;34m)\u001b[0m\u001b[0;34m\u001b[0m\u001b[0;34m\u001b[0m\u001b[0m\n\u001b[0m\u001b[1;32m    144\u001b[0m     \u001b[0mmodel_dir_lr\u001b[0m \u001b[0;34m=\u001b[0m \u001b[0mos\u001b[0m\u001b[0;34m.\u001b[0m\u001b[0mpath\u001b[0m\u001b[0;34m.\u001b[0m\u001b[0mjoin\u001b[0m\u001b[0;34m(\u001b[0m\u001b[0mmodel_dir_no_lr\u001b[0m\u001b[0;34m,\u001b[0m \u001b[0;34mf\"lr={str(best_lr)}\"\u001b[0m\u001b[0;34m)\u001b[0m\u001b[0;34m\u001b[0m\u001b[0;34m\u001b[0m\u001b[0m\n\u001b[1;32m    145\u001b[0m     \u001b[0mjson_dir\u001b[0m \u001b[0;34m=\u001b[0m \u001b[0;34m'full_metrics.json'\u001b[0m\u001b[0;34m\u001b[0m\u001b[0;34m\u001b[0m\u001b[0m\n",
      "\u001b[0;32m~/Desktop/VR_Optimizers_Pytorch/notebooks/../vr_optimizers/utils/utils.py\u001b[0m in \u001b[0;36mget_best_lr_and_metric\u001b[0;34m(args, last)\u001b[0m\n\u001b[1;32m    107\u001b[0m     \u001b[0mkey\u001b[0m \u001b[0;34m=\u001b[0m \u001b[0mget_key\u001b[0m\u001b[0;34m(\u001b[0m\u001b[0margs\u001b[0m\u001b[0;34m.\u001b[0m\u001b[0mtrain_metric\u001b[0m\u001b[0;34m)\u001b[0m\u001b[0;34m\u001b[0m\u001b[0;34m\u001b[0m\u001b[0m\n\u001b[1;32m    108\u001b[0m     \u001b[0mmodel_dir_no_lr\u001b[0m \u001b[0;34m=\u001b[0m \u001b[0mcreate_model_dir\u001b[0m\u001b[0;34m(\u001b[0m\u001b[0margs\u001b[0m\u001b[0;34m,\u001b[0m \u001b[0mlr\u001b[0m\u001b[0;34m=\u001b[0m\u001b[0;32mFalse\u001b[0m\u001b[0;34m)\u001b[0m\u001b[0;34m\u001b[0m\u001b[0;34m\u001b[0m\u001b[0m\n\u001b[0;32m--> 109\u001b[0;31m     lr_dirs = [lr_dir for lr_dir in os.listdir(model_dir_no_lr)\n\u001b[0m\u001b[1;32m    110\u001b[0m                \u001b[0;32mif\u001b[0m \u001b[0mos\u001b[0m\u001b[0;34m.\u001b[0m\u001b[0mpath\u001b[0m\u001b[0;34m.\u001b[0m\u001b[0misdir\u001b[0m\u001b[0;34m(\u001b[0m\u001b[0mos\u001b[0m\u001b[0;34m.\u001b[0m\u001b[0mpath\u001b[0m\u001b[0;34m.\u001b[0m\u001b[0mjoin\u001b[0m\u001b[0;34m(\u001b[0m\u001b[0mmodel_dir_no_lr\u001b[0m\u001b[0;34m,\u001b[0m \u001b[0mlr_dir\u001b[0m\u001b[0;34m)\u001b[0m\u001b[0;34m)\u001b[0m\u001b[0;34m\u001b[0m\u001b[0;34m\u001b[0m\u001b[0m\n\u001b[1;32m    111\u001b[0m                and not lr_dir.startswith('.')]\n",
      "\u001b[0;31mFileNotFoundError\u001b[0m: [Errno 2] No such file or directory: '../check_points/id=theor_step_size/lin_reg_a9a/gd'"
     ]
    },
    {
     "data": {
      "image/png": "[encoded data removed]",
      "text/plain": [
       "<Figure size 432x288 with 1 Axes>"
      ]
     },
     "metadata": {
      "needs_background": "light"
     },
     "output_type": "display_data"
    }
   ],
   "source": [
    "plot(exps, log_scale=False,\n",
    "     legend=None,\n",
    "     y_label='validation accuracy',\n",
    "     x_label=\"epochs\", \n",
    "     file=None, # file to store results of the experiment (in ../plots/ directory)\n",
    "    )"
   ]
  }
 ],
 "metadata": {
  "kernelspec": {
   "display_name": "vr_optims",
   "language": "python",
   "name": "vr_optims"
  },
  "language_info": {
   "codemirror_mode": {
    "name": "ipython",
    "version": 3
   },
   "file_extension": ".py",
   "mimetype": "text/x-python",
   "name": "python",
   "nbconvert_exporter": "python",
   "pygments_lexer": "ipython3",
   "version": "3.9.5"
  }
 },
 "nbformat": 4,
 "nbformat_minor": 5
}
